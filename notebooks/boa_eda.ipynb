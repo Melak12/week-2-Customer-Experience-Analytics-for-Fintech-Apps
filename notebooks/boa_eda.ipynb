{
 "cells": [
  {
   "cell_type": "code",
   "execution_count": null,
   "id": "f35580a7",
   "metadata": {},
   "outputs": [],
   "source": [
    "# load the autoreload extension for IPython\n",
    "# This allows you to automatically reload modules before executing code\n",
    "%load_ext autoreload\n",
    "%autoreload 2\n",
    "\n",
    "import sys\n",
    "import os\n",
    "\n",
    "# Add the parent directory to the system path\n",
    "sys.path.append(os.path.abspath(os.path.join('..')))"
   ]
  },
  {
   "cell_type": "markdown",
   "id": "13d16951",
   "metadata": {},
   "source": [
    "## EDA for BOA APP Reviews"
   ]
  },
  {
   "cell_type": "code",
   "execution_count": null,
   "id": "d76923f4",
   "metadata": {},
   "outputs": [],
   "source": [
    "# Import necessary modules and packages\n",
    "from scripts.utils import AppName\n",
    "from scripts.sentiment_analysis import SentimentAnalysis, SentimentMethod\n",
    "import pandas as pd"
   ]
  },
  {
   "cell_type": "code",
   "execution_count": null,
   "id": "e858ca7d",
   "metadata": {},
   "outputs": [],
   "source": [
    "# load the review data\n",
    "review_data = pd.read_csv('../Data/cleaned/boa_reviews_cleaned.csv')\n",
    "\n",
    "#show the first few rows of the review data\n",
    "review_data.head(5)"
   ]
  },
  {
   "cell_type": "code",
   "execution_count": null,
   "id": "87c34eb6",
   "metadata": {},
   "outputs": [],
   "source": [
    "# create an instance of the SentimentAnalysis class\n",
    "analysis = SentimentAnalysis(review_data, AppName.BOA)"
   ]
  },
  {
   "cell_type": "code",
   "execution_count": null,
   "id": "491a26cc",
   "metadata": {},
   "outputs": [],
   "source": [
    "# Preprocess review text\n",
    "analysis.preprocess_reviews()\n",
    "review_data.head(5)"
   ]
  },
  {
   "cell_type": "code",
   "execution_count": null,
   "id": "ca980f06",
   "metadata": {},
   "outputs": [],
   "source": [
    "# Sentiment analysis using Bert\n",
    "analysis.compute_sentiment(method=SentimentMethod.BERT)\n",
    "review_data.head(5)"
   ]
  },
  {
   "cell_type": "code",
   "execution_count": null,
   "id": "bf72ba16",
   "metadata": {},
   "outputs": [],
   "source": [
    "# Sentiment analysis using VADER\n",
    "analysis.compute_sentiment(method=SentimentMethod.VADER)\n",
    "review_data.head(5)"
   ]
  },
  {
   "cell_type": "code",
   "execution_count": null,
   "id": "d11c4cee",
   "metadata": {},
   "outputs": [],
   "source": [
    "# Sentiment analysis using Text Blob\n",
    "\n",
    "analysis.compute_sentiment(method=SentimentMethod.TEXT_BLOB)\n",
    "review_data.head(5)"
   ]
  },
  {
   "cell_type": "code",
   "execution_count": null,
   "id": "059360ae",
   "metadata": {},
   "outputs": [],
   "source": [
    "# Visualize sentiment distribution for all sentiment algorithms\n",
    "analysis.plot_sentiment_distribution()"
   ]
  },
  {
   "cell_type": "code",
   "execution_count": null,
   "id": "9a099c80",
   "metadata": {},
   "outputs": [],
   "source": [
    "## Extract Keywords from positive and negative reviews\n",
    "analysis.keyword_extraction(top_n=20, method=SentimentMethod.BERT)"
   ]
  },
  {
   "cell_type": "code",
   "execution_count": null,
   "id": "1d492d93",
   "metadata": {},
   "outputs": [],
   "source": [
    "# Extract themes from the reviews using BERT\n",
    "analysis.extract_themes(method=SentimentMethod.BERT)\n"
   ]
  },
  {
   "cell_type": "code",
   "execution_count": null,
   "id": "bbe559b9",
   "metadata": {},
   "outputs": [],
   "source": [
    "## Visualize the themes\n",
    "analysis.plot_theme_map(top_n=30, method=SentimentMethod.BERT)"
   ]
  }
 ],
 "metadata": {
  "language_info": {
   "name": "python"
  }
 },
 "nbformat": 4,
 "nbformat_minor": 5
}
