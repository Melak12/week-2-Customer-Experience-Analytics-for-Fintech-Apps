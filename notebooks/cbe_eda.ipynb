{
 "cells": [
  {
   "cell_type": "code",
   "execution_count": 1,
   "id": "ba3d7100",
   "metadata": {},
   "outputs": [],
   "source": [
    "# load the autoreload extension for IPython\n",
    "# This allows you to automatically reload modules before executing code\n",
    "%load_ext autoreload\n",
    "%autoreload 2\n",
    "\n",
    "import sys\n",
    "import os\n",
    "\n",
    "# Add the parent directory to the system path\n",
    "sys.path.append(os.path.abspath(os.path.join('..')))"
   ]
  },
  {
   "cell_type": "markdown",
   "id": "5fa29000",
   "metadata": {},
   "source": [
    "## EDA for CBE APP Reviews"
   ]
  },
  {
   "cell_type": "code",
   "execution_count": 2,
   "id": "b277dd50",
   "metadata": {},
   "outputs": [
    {
     "name": "stderr",
     "output_type": "stream",
     "text": [
      "d:\\active_repos\\10_academy\\week-2-Customer-Experience-Analytics-for-Fintech-Apps\\.venv\\Lib\\site-packages\\tqdm\\auto.py:21: TqdmWarning: IProgress not found. Please update jupyter and ipywidgets. See https://ipywidgets.readthedocs.io/en/stable/user_install.html\n",
      "  from .autonotebook import tqdm as notebook_tqdm\n",
      "None of PyTorch, TensorFlow >= 2.0, or Flax have been found. Models won't be available and only tokenizers, configuration and file/data utilities can be used.\n",
      "None of PyTorch, TensorFlow >= 2.0, or Flax have been found. Models won't be available and only tokenizers, configuration and file/data utilities can be used.\n"
     ]
    },
    {
     "ename": "AttributeError",
     "evalue": "type object 'SentimentMethod' has no attribute 'VADER'",
     "output_type": "error",
     "traceback": [
      "\u001b[31m---------------------------------------------------------------------------\u001b[39m",
      "\u001b[31mAttributeError\u001b[39m                            Traceback (most recent call last)",
      "\u001b[36mCell\u001b[39m\u001b[36m \u001b[39m\u001b[32mIn[2]\u001b[39m\u001b[32m, line 3\u001b[39m\n\u001b[32m      1\u001b[39m \u001b[38;5;66;03m# Import necessary modules and packages\u001b[39;00m\n\u001b[32m      2\u001b[39m \u001b[38;5;28;01mfrom\u001b[39;00m\u001b[38;5;250m \u001b[39m\u001b[34;01mscripts\u001b[39;00m\u001b[34;01m.\u001b[39;00m\u001b[34;01mutils\u001b[39;00m\u001b[38;5;250m \u001b[39m\u001b[38;5;28;01mimport\u001b[39;00m AppName\n\u001b[32m----> \u001b[39m\u001b[32m3\u001b[39m \u001b[38;5;28;01mfrom\u001b[39;00m\u001b[38;5;250m \u001b[39m\u001b[34;01mscripts\u001b[39;00m\u001b[34;01m.\u001b[39;00m\u001b[34;01msentiment_analysis\u001b[39;00m\u001b[38;5;250m \u001b[39m\u001b[38;5;28;01mimport\u001b[39;00m SentimentAnalysis\n\u001b[32m      4\u001b[39m \u001b[38;5;28;01mimport\u001b[39;00m\u001b[38;5;250m \u001b[39m\u001b[34;01mpandas\u001b[39;00m\u001b[38;5;250m \u001b[39m\u001b[38;5;28;01mas\u001b[39;00m\u001b[38;5;250m \u001b[39m\u001b[34;01mpd\u001b[39;00m\n",
      "\u001b[36mFile \u001b[39m\u001b[32md:\\active_repos\\10_academy\\week-2-Customer-Experience-Analytics-for-Fintech-Apps\\scripts\\sentiment_analysis.py:30\u001b[39m\n\u001b[32m     27\u001b[39m     BERT = \u001b[33m'\u001b[39m\u001b[33mbert\u001b[39m\u001b[33m'\u001b[39m\n\u001b[32m     28\u001b[39m     TEXT_BLOB = \u001b[33m'\u001b[39m\u001b[33mtext_blob\u001b[39m\u001b[33m'\u001b[39m\n\u001b[32m---> \u001b[39m\u001b[32m30\u001b[39m \u001b[38;5;28;43;01mclass\u001b[39;49;00m\u001b[38;5;250;43m \u001b[39;49m\u001b[34;43;01mSentimentAnalysis\u001b[39;49;00m\u001b[43m:\u001b[49m\n\u001b[32m     31\u001b[39m \u001b[43m    \u001b[49m\u001b[38;5;28;43;01mdef\u001b[39;49;00m\u001b[38;5;250;43m \u001b[39;49m\u001b[34;43m__init__\u001b[39;49m\u001b[43m(\u001b[49m\u001b[38;5;28;43mself\u001b[39;49m\u001b[43m,\u001b[49m\u001b[43m \u001b[49m\u001b[43mdf\u001b[49m\u001b[43m,\u001b[49m\u001b[43m \u001b[49m\u001b[43mapp_name\u001b[49m\u001b[43m:\u001b[49m\u001b[43m \u001b[49m\u001b[33;43m'\u001b[39;49m\u001b[33;43mAppName\u001b[39;49m\u001b[33;43m'\u001b[39;49m\u001b[43m)\u001b[49m\u001b[43m:\u001b[49m\n\u001b[32m     32\u001b[39m \u001b[43m        \u001b[49m\u001b[38;5;28;43mself\u001b[39;49m\u001b[43m.\u001b[49m\u001b[43mdf\u001b[49m\u001b[43m \u001b[49m\u001b[43m=\u001b[49m\u001b[43m \u001b[49m\u001b[43mdf\u001b[49m\n",
      "\u001b[36mFile \u001b[39m\u001b[32md:\\active_repos\\10_academy\\week-2-Customer-Experience-Analytics-for-Fintech-Apps\\scripts\\sentiment_analysis.py:130\u001b[39m, in \u001b[36mSentimentAnalysis\u001b[39m\u001b[34m()\u001b[39m\n\u001b[32m    127\u001b[39m     \u001b[38;5;28mself\u001b[39m.df[\u001b[33m'\u001b[39m\u001b[33mtextblob_sentiment\u001b[39m\u001b[33m'\u001b[39m] = \u001b[38;5;28mself\u001b[39m.df[\u001b[33m'\u001b[39m\u001b[33mtextblob_score\u001b[39m\u001b[33m'\u001b[39m].apply(\u001b[38;5;28;01mlambda\u001b[39;00m x: \u001b[33m'\u001b[39m\u001b[33mpositive\u001b[39m\u001b[33m'\u001b[39m \u001b[38;5;28;01mif\u001b[39;00m x > \u001b[32m0.05\u001b[39m \u001b[38;5;28;01melse\u001b[39;00m (\u001b[33m'\u001b[39m\u001b[33mnegative\u001b[39m\u001b[33m'\u001b[39m \u001b[38;5;28;01mif\u001b[39;00m x < -\u001b[32m0.05\u001b[39m \u001b[38;5;28;01melse\u001b[39;00m \u001b[33m'\u001b[39m\u001b[33mneutral\u001b[39m\u001b[33m'\u001b[39m))\n\u001b[32m    128\u001b[39m     \u001b[38;5;28mprint\u001b[39m(\u001b[33m\"\u001b[39m\u001b[33mTextBlob sentiment scores computed.\u001b[39m\u001b[33m\"\u001b[39m)\n\u001b[32m--> \u001b[39m\u001b[32m130\u001b[39m \u001b[38;5;28;01mdef\u001b[39;00m\u001b[38;5;250m \u001b[39m\u001b[34maggregate_sentiment_by_rating\u001b[39m(\u001b[38;5;28mself\u001b[39m,  method: SentimentMethod = \u001b[43mSentimentMethod\u001b[49m\u001b[43m.\u001b[49m\u001b[43mVADER\u001b[49m):\n\u001b[32m    131\u001b[39m     \u001b[38;5;66;03m# Aggregate mean sentiment score by rating\u001b[39;00m\n\u001b[32m    132\u001b[39m     \u001b[38;5;28;01mif\u001b[39;00m method == SentimentMethod.BERT:\n\u001b[32m    133\u001b[39m         \u001b[38;5;66;03m# For BERT, use bert_score (probability of predicted label)\u001b[39;00m\n\u001b[32m    134\u001b[39m         agg = \u001b[38;5;28mself\u001b[39m.df.groupby(\u001b[33m'\u001b[39m\u001b[33mrating\u001b[39m\u001b[33m'\u001b[39m)[\u001b[33m'\u001b[39m\u001b[33mbert_score\u001b[39m\u001b[33m'\u001b[39m].mean().reset_index(name=\u001b[33m'\u001b[39m\u001b[33mmean_bert_score\u001b[39m\u001b[33m'\u001b[39m)\n",
      "\u001b[31mAttributeError\u001b[39m: type object 'SentimentMethod' has no attribute 'VADER'"
     ]
    }
   ],
   "source": [
    "# Import necessary modules and packages\n",
    "from scripts.utils import AppName\n",
    "from scripts.sentiment_analysis import SentimentAnalysis\n",
    "import pandas as pd"
   ]
  },
  {
   "cell_type": "code",
   "execution_count": null,
   "id": "04597229",
   "metadata": {},
   "outputs": [],
   "source": [
    "# load the review data\n",
    "review_data = pd.read_csv('../Data/cleaned/cbe_reviews_cleaned.csv')\n",
    "\n",
    "#show the first few rows of the review data\n",
    "review_data.head(5)\n"
   ]
  },
  {
   "cell_type": "code",
   "execution_count": null,
   "id": "7fa33eff",
   "metadata": {},
   "outputs": [],
   "source": [
    "# create an instance of the SentimentAnalysis class\n",
    "analysis = SentimentAnalysis(review_data, AppName.CBE)"
   ]
  },
  {
   "cell_type": "code",
   "execution_count": null,
   "id": "21e3726c",
   "metadata": {},
   "outputs": [],
   "source": [
    "# Preprocess review text\n",
    "analysis.preprocess_reviews()\n",
    "review_data.head(5)"
   ]
  },
  {
   "cell_type": "code",
   "execution_count": null,
   "id": "257aba28",
   "metadata": {},
   "outputs": [],
   "source": [
    "# Sentiment analysis using VADER\n",
    "analysis.compute_vader_sentiment()\n",
    "review_data.head(5)"
   ]
  },
  {
   "cell_type": "code",
   "execution_count": null,
   "id": "28c86d0e",
   "metadata": {},
   "outputs": [],
   "source": [
    "# Sentiment analysis using Text Blob\n",
    "analysis.compute_textblob_sentiment()\n",
    "review_data.head(5)"
   ]
  }
 ],
 "metadata": {
  "kernelspec": {
   "display_name": ".venv",
   "language": "python",
   "name": "python3"
  },
  "language_info": {
   "codemirror_mode": {
    "name": "ipython",
    "version": 3
   },
   "file_extension": ".py",
   "mimetype": "text/x-python",
   "name": "python",
   "nbconvert_exporter": "python",
   "pygments_lexer": "ipython3",
   "version": "3.13.3"
  }
 },
 "nbformat": 4,
 "nbformat_minor": 5
}
