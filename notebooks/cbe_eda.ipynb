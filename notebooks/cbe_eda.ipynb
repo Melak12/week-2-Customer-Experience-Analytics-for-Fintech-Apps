{
 "cells": [
  {
   "cell_type": "code",
   "execution_count": 1,
   "id": "ba3d7100",
   "metadata": {},
   "outputs": [],
   "source": [
    "# load the autoreload extension for IPython\n",
    "# This allows you to automatically reload modules before executing code\n",
    "%load_ext autoreload\n",
    "%autoreload 2\n",
    "\n",
    "import sys\n",
    "import os\n",
    "\n",
    "# Add the parent directory to the system path\n",
    "sys.path.append(os.path.abspath(os.path.join('..')))"
   ]
  },
  {
   "cell_type": "markdown",
   "id": "5fa29000",
   "metadata": {},
   "source": [
    "## EDA for CBE APP Reviews"
   ]
  },
  {
   "cell_type": "code",
   "execution_count": 2,
   "id": "b277dd50",
   "metadata": {},
   "outputs": [
    {
     "name": "stderr",
     "output_type": "stream",
     "text": [
      "d:\\active_repos\\10_academy\\week-2-Customer-Experience-Analytics-for-Fintech-Apps\\.venv\\Lib\\site-packages\\tqdm\\auto.py:21: TqdmWarning: IProgress not found. Please update jupyter and ipywidgets. See https://ipywidgets.readthedocs.io/en/stable/user_install.html\n",
      "  from .autonotebook import tqdm as notebook_tqdm\n",
      "None of PyTorch, TensorFlow >= 2.0, or Flax have been found. Models won't be available and only tokenizers, configuration and file/data utilities can be used.\n",
      "None of PyTorch, TensorFlow >= 2.0, or Flax have been found. Models won't be available and only tokenizers, configuration and file/data utilities can be used.\n"
     ]
    }
   ],
   "source": [
    "# Import necessary modules and packages\n",
    "from scripts.utils import AppName\n",
    "from scripts.sentiment_analysis import SentimentAnalysis\n",
    "import pandas as pd"
   ]
  },
  {
   "cell_type": "code",
   "execution_count": 3,
   "id": "04597229",
   "metadata": {},
   "outputs": [
    {
     "data": {
      "text/html": [
       "<div>\n",
       "<style scoped>\n",
       "    .dataframe tbody tr th:only-of-type {\n",
       "        vertical-align: middle;\n",
       "    }\n",
       "\n",
       "    .dataframe tbody tr th {\n",
       "        vertical-align: top;\n",
       "    }\n",
       "\n",
       "    .dataframe thead th {\n",
       "        text-align: right;\n",
       "    }\n",
       "</style>\n",
       "<table border=\"1\" class=\"dataframe\">\n",
       "  <thead>\n",
       "    <tr style=\"text-align: right;\">\n",
       "      <th></th>\n",
       "      <th>review</th>\n",
       "      <th>rating</th>\n",
       "      <th>date</th>\n",
       "      <th>bank</th>\n",
       "      <th>source</th>\n",
       "    </tr>\n",
       "  </thead>\n",
       "  <tbody>\n",
       "    <tr>\n",
       "      <th>0</th>\n",
       "      <td>v.good app</td>\n",
       "      <td>4</td>\n",
       "      <td>2025-06-09</td>\n",
       "      <td>cbe</td>\n",
       "      <td>Google Play Store</td>\n",
       "    </tr>\n",
       "    <tr>\n",
       "      <th>1</th>\n",
       "      <td>very good app</td>\n",
       "      <td>1</td>\n",
       "      <td>2025-06-09</td>\n",
       "      <td>cbe</td>\n",
       "      <td>Google Play Store</td>\n",
       "    </tr>\n",
       "    <tr>\n",
       "      <th>2</th>\n",
       "      <td>Very amazing app indeed. I'm enjoying it</td>\n",
       "      <td>5</td>\n",
       "      <td>2025-06-08</td>\n",
       "      <td>cbe</td>\n",
       "      <td>Google Play Store</td>\n",
       "    </tr>\n",
       "    <tr>\n",
       "      <th>3</th>\n",
       "      <td>Best</td>\n",
       "      <td>5</td>\n",
       "      <td>2025-06-08</td>\n",
       "      <td>cbe</td>\n",
       "      <td>Google Play Store</td>\n",
       "    </tr>\n",
       "    <tr>\n",
       "      <th>4</th>\n",
       "      <td>20 years</td>\n",
       "      <td>5</td>\n",
       "      <td>2025-06-08</td>\n",
       "      <td>cbe</td>\n",
       "      <td>Google Play Store</td>\n",
       "    </tr>\n",
       "  </tbody>\n",
       "</table>\n",
       "</div>"
      ],
      "text/plain": [
       "                                     review  rating        date bank  \\\n",
       "0                                v.good app       4  2025-06-09  cbe   \n",
       "1                             very good app       1  2025-06-09  cbe   \n",
       "2  Very amazing app indeed. I'm enjoying it       5  2025-06-08  cbe   \n",
       "3                                      Best       5  2025-06-08  cbe   \n",
       "4                                  20 years       5  2025-06-08  cbe   \n",
       "\n",
       "              source  \n",
       "0  Google Play Store  \n",
       "1  Google Play Store  \n",
       "2  Google Play Store  \n",
       "3  Google Play Store  \n",
       "4  Google Play Store  "
      ]
     },
     "execution_count": 3,
     "metadata": {},
     "output_type": "execute_result"
    }
   ],
   "source": [
    "# load the review data\n",
    "review_data = pd.read_csv('../Data/cleaned/cbe_reviews_cleaned.csv')\n",
    "\n",
    "#show the first few rows of the review data\n",
    "review_data.head(5)\n"
   ]
  },
  {
   "cell_type": "code",
   "execution_count": 4,
   "id": "7fa33eff",
   "metadata": {},
   "outputs": [
    {
     "name": "stdout",
     "output_type": "stream",
     "text": [
      "Checking for NLTK resources...\n",
      "NLTK resources not found. Downloading...\n",
      "NLTK resources downloaded.\n"
     ]
    }
   ],
   "source": [
    "# create an instance of the SentimentAnalysis class\n",
    "analysis = SentimentAnalysis(review_data, AppName.CBE)"
   ]
  },
  {
   "cell_type": "code",
   "execution_count": 5,
   "id": "21e3726c",
   "metadata": {},
   "outputs": [
    {
     "name": "stdout",
     "output_type": "stream",
     "text": [
      "Preprocessing reviews...\n",
      "Reviews preprocessed. Tokens extracted.\n"
     ]
    },
    {
     "data": {
      "text/html": [
       "<div>\n",
       "<style scoped>\n",
       "    .dataframe tbody tr th:only-of-type {\n",
       "        vertical-align: middle;\n",
       "    }\n",
       "\n",
       "    .dataframe tbody tr th {\n",
       "        vertical-align: top;\n",
       "    }\n",
       "\n",
       "    .dataframe thead th {\n",
       "        text-align: right;\n",
       "    }\n",
       "</style>\n",
       "<table border=\"1\" class=\"dataframe\">\n",
       "  <thead>\n",
       "    <tr style=\"text-align: right;\">\n",
       "      <th></th>\n",
       "      <th>review</th>\n",
       "      <th>rating</th>\n",
       "      <th>date</th>\n",
       "      <th>bank</th>\n",
       "      <th>source</th>\n",
       "      <th>processed_review</th>\n",
       "    </tr>\n",
       "  </thead>\n",
       "  <tbody>\n",
       "    <tr>\n",
       "      <th>0</th>\n",
       "      <td>v.good app</td>\n",
       "      <td>4</td>\n",
       "      <td>2025-06-09</td>\n",
       "      <td>cbe</td>\n",
       "      <td>Google Play Store</td>\n",
       "      <td>app</td>\n",
       "    </tr>\n",
       "    <tr>\n",
       "      <th>1</th>\n",
       "      <td>very good app</td>\n",
       "      <td>1</td>\n",
       "      <td>2025-06-09</td>\n",
       "      <td>cbe</td>\n",
       "      <td>Google Play Store</td>\n",
       "      <td>good app</td>\n",
       "    </tr>\n",
       "    <tr>\n",
       "      <th>2</th>\n",
       "      <td>Very amazing app indeed. I'm enjoying it</td>\n",
       "      <td>5</td>\n",
       "      <td>2025-06-08</td>\n",
       "      <td>cbe</td>\n",
       "      <td>Google Play Store</td>\n",
       "      <td>amazing app indeed enjoying</td>\n",
       "    </tr>\n",
       "    <tr>\n",
       "      <th>3</th>\n",
       "      <td>Best</td>\n",
       "      <td>5</td>\n",
       "      <td>2025-06-08</td>\n",
       "      <td>cbe</td>\n",
       "      <td>Google Play Store</td>\n",
       "      <td>best</td>\n",
       "    </tr>\n",
       "    <tr>\n",
       "      <th>4</th>\n",
       "      <td>20 years</td>\n",
       "      <td>5</td>\n",
       "      <td>2025-06-08</td>\n",
       "      <td>cbe</td>\n",
       "      <td>Google Play Store</td>\n",
       "      <td>20 year</td>\n",
       "    </tr>\n",
       "  </tbody>\n",
       "</table>\n",
       "</div>"
      ],
      "text/plain": [
       "                                     review  rating        date bank  \\\n",
       "0                                v.good app       4  2025-06-09  cbe   \n",
       "1                             very good app       1  2025-06-09  cbe   \n",
       "2  Very amazing app indeed. I'm enjoying it       5  2025-06-08  cbe   \n",
       "3                                      Best       5  2025-06-08  cbe   \n",
       "4                                  20 years       5  2025-06-08  cbe   \n",
       "\n",
       "              source             processed_review  \n",
       "0  Google Play Store                          app  \n",
       "1  Google Play Store                     good app  \n",
       "2  Google Play Store  amazing app indeed enjoying  \n",
       "3  Google Play Store                         best  \n",
       "4  Google Play Store                      20 year  "
      ]
     },
     "execution_count": 5,
     "metadata": {},
     "output_type": "execute_result"
    }
   ],
   "source": [
    "# Preprocess review text\n",
    "analysis.preprocess_reviews()\n",
    "review_data.head(5)"
   ]
  },
  {
   "cell_type": "code",
   "execution_count": null,
   "id": "a1854697",
   "metadata": {},
   "outputs": [],
   "source": []
  },
  {
   "cell_type": "code",
   "execution_count": 6,
   "id": "257aba28",
   "metadata": {},
   "outputs": [
    {
     "name": "stdout",
     "output_type": "stream",
     "text": [
      "Computing VADER sentiment scores...\n",
      "VADER sentiment scores computed.\n"
     ]
    },
    {
     "data": {
      "text/html": [
       "<div>\n",
       "<style scoped>\n",
       "    .dataframe tbody tr th:only-of-type {\n",
       "        vertical-align: middle;\n",
       "    }\n",
       "\n",
       "    .dataframe tbody tr th {\n",
       "        vertical-align: top;\n",
       "    }\n",
       "\n",
       "    .dataframe thead th {\n",
       "        text-align: right;\n",
       "    }\n",
       "</style>\n",
       "<table border=\"1\" class=\"dataframe\">\n",
       "  <thead>\n",
       "    <tr style=\"text-align: right;\">\n",
       "      <th></th>\n",
       "      <th>review</th>\n",
       "      <th>rating</th>\n",
       "      <th>date</th>\n",
       "      <th>bank</th>\n",
       "      <th>source</th>\n",
       "      <th>processed_review</th>\n",
       "      <th>vader_score</th>\n",
       "      <th>vader_sentiment</th>\n",
       "    </tr>\n",
       "  </thead>\n",
       "  <tbody>\n",
       "    <tr>\n",
       "      <th>0</th>\n",
       "      <td>v.good app</td>\n",
       "      <td>4</td>\n",
       "      <td>2025-06-09</td>\n",
       "      <td>cbe</td>\n",
       "      <td>Google Play Store</td>\n",
       "      <td>app</td>\n",
       "      <td>0.0000</td>\n",
       "      <td>neutral</td>\n",
       "    </tr>\n",
       "    <tr>\n",
       "      <th>1</th>\n",
       "      <td>very good app</td>\n",
       "      <td>1</td>\n",
       "      <td>2025-06-09</td>\n",
       "      <td>cbe</td>\n",
       "      <td>Google Play Store</td>\n",
       "      <td>good app</td>\n",
       "      <td>0.4404</td>\n",
       "      <td>positive</td>\n",
       "    </tr>\n",
       "    <tr>\n",
       "      <th>2</th>\n",
       "      <td>Very amazing app indeed. I'm enjoying it</td>\n",
       "      <td>5</td>\n",
       "      <td>2025-06-08</td>\n",
       "      <td>cbe</td>\n",
       "      <td>Google Play Store</td>\n",
       "      <td>amazing app indeed enjoying</td>\n",
       "      <td>0.8020</td>\n",
       "      <td>positive</td>\n",
       "    </tr>\n",
       "    <tr>\n",
       "      <th>3</th>\n",
       "      <td>Best</td>\n",
       "      <td>5</td>\n",
       "      <td>2025-06-08</td>\n",
       "      <td>cbe</td>\n",
       "      <td>Google Play Store</td>\n",
       "      <td>best</td>\n",
       "      <td>0.6369</td>\n",
       "      <td>positive</td>\n",
       "    </tr>\n",
       "    <tr>\n",
       "      <th>4</th>\n",
       "      <td>20 years</td>\n",
       "      <td>5</td>\n",
       "      <td>2025-06-08</td>\n",
       "      <td>cbe</td>\n",
       "      <td>Google Play Store</td>\n",
       "      <td>20 year</td>\n",
       "      <td>0.0000</td>\n",
       "      <td>neutral</td>\n",
       "    </tr>\n",
       "  </tbody>\n",
       "</table>\n",
       "</div>"
      ],
      "text/plain": [
       "                                     review  rating        date bank  \\\n",
       "0                                v.good app       4  2025-06-09  cbe   \n",
       "1                             very good app       1  2025-06-09  cbe   \n",
       "2  Very amazing app indeed. I'm enjoying it       5  2025-06-08  cbe   \n",
       "3                                      Best       5  2025-06-08  cbe   \n",
       "4                                  20 years       5  2025-06-08  cbe   \n",
       "\n",
       "              source             processed_review  vader_score vader_sentiment  \n",
       "0  Google Play Store                          app       0.0000         neutral  \n",
       "1  Google Play Store                     good app       0.4404        positive  \n",
       "2  Google Play Store  amazing app indeed enjoying       0.8020        positive  \n",
       "3  Google Play Store                         best       0.6369        positive  \n",
       "4  Google Play Store                      20 year       0.0000         neutral  "
      ]
     },
     "execution_count": 6,
     "metadata": {},
     "output_type": "execute_result"
    }
   ],
   "source": [
    "# Sentiment analysis using VADER\n",
    "analysis.compute_vader_sentiment()\n",
    "review_data.head(5)"
   ]
  }
 ],
 "metadata": {
  "kernelspec": {
   "display_name": ".venv",
   "language": "python",
   "name": "python3"
  },
  "language_info": {
   "codemirror_mode": {
    "name": "ipython",
    "version": 3
   },
   "file_extension": ".py",
   "mimetype": "text/x-python",
   "name": "python",
   "nbconvert_exporter": "python",
   "pygments_lexer": "ipython3",
   "version": "3.13.3"
  }
 },
 "nbformat": 4,
 "nbformat_minor": 5
}
