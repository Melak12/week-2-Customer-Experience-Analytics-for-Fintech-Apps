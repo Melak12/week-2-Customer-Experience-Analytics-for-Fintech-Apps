{
 "cells": [
  {
   "cell_type": "code",
   "execution_count": 1,
   "id": "4cff9894",
   "metadata": {},
   "outputs": [],
   "source": [
    "# load the autoreload extension for IPython\n",
    "# This allows you to automatically reload modules before executing code\n",
    "%load_ext autoreload\n",
    "%autoreload 2\n",
    "\n",
    "import sys\n",
    "import os\n",
    "\n",
    "# Add the parent directory to the system path\n",
    "sys.path.append(os.path.abspath(os.path.join('..')))"
   ]
  },
  {
   "cell_type": "code",
   "execution_count": null,
   "id": "ba22e926",
   "metadata": {},
   "outputs": [],
   "source": [
    "# Import necessary modules and packages\n",
    "from scripts.utils import AppName\n",
    "from scripts.app_review_scrapper import AppReviewScraper, AppName\n"
   ]
  },
  {
   "cell_type": "code",
   "execution_count": 3,
   "id": "d3f7d5de",
   "metadata": {},
   "outputs": [],
   "source": [
    "# Initialize the AppReviewScraper with the desired app ID\n",
    "\n",
    "scraper = AppReviewScraper()\n",
    "\n"
   ]
  },
  {
   "cell_type": "code",
   "execution_count": 4,
   "id": "4f4d4985",
   "metadata": {},
   "outputs": [
    {
     "name": "stderr",
     "output_type": "stream",
     "text": [
      "2025-06-10 15:10:32,502 - INFO - Starting to scrape reviews for app: CBE (ID: com.combanketh.mobilebanking)\n",
      "2025-06-10 15:10:38,907 - INFO - Scraped 400 reviews. Saving to d:\\active_repos\\10_academy\\week-2-Customer-Experience-Analytics-for-Fintech-Apps\\Data\\cbe_reviews.csv\n",
      "2025-06-10 15:10:38,922 - INFO - Reviews saved successfully.\n",
      "2025-06-10 15:10:38,925 - INFO - Starting to scrape reviews for app: BOA (ID: com.boa.boaMobileBanking)\n",
      "2025-06-10 15:10:45,503 - INFO - Scraped 400 reviews. Saving to d:\\active_repos\\10_academy\\week-2-Customer-Experience-Analytics-for-Fintech-Apps\\Data\\boa_reviews.csv\n",
      "2025-06-10 15:10:45,519 - INFO - Reviews saved successfully.\n",
      "2025-06-10 15:10:45,522 - INFO - Starting to scrape reviews for app: DASHEN (ID: com.dashen.dashensuperapp)\n",
      "2025-06-10 15:10:52,207 - INFO - Scraped 400 reviews. Saving to d:\\active_repos\\10_academy\\week-2-Customer-Experience-Analytics-for-Fintech-Apps\\Data\\dashen_reviews.csv\n",
      "2025-06-10 15:10:52,211 - INFO - Reviews saved successfully.\n"
     ]
    }
   ],
   "source": [
    "# Scrape reviews for CBE\n",
    "scraper.scrape_reviews(AppName.CBE)\n",
    "\n",
    "# Scrape review for BOA\n",
    "scraper.scrape_reviews(AppName.BOA)\n",
    "\n",
    "#scrape reviews for Dashen\n",
    "scraper.scrape_reviews(AppName.DASHEN)"
   ]
  },
  {
   "cell_type": "markdown",
   "id": "0d2fd9b6",
   "metadata": {},
   "source": [
    "### Pre-Process The scrapped Raw Data"
   ]
  },
  {
   "cell_type": "code",
   "execution_count": 8,
   "id": "e41ce03e",
   "metadata": {},
   "outputs": [
    {
     "name": "stderr",
     "output_type": "stream",
     "text": [
      "2025-06-10 15:16:11,472 - INFO - Cleaned reviews saved to d:\\active_repos\\10_academy\\week-2-Customer-Experience-Analytics-for-Fintech-Apps\\Data\\cleaned\\cbe_reviews_cleaned.csv\n",
      "2025-06-10 15:16:11,484 - INFO - Cleaned reviews saved to d:\\active_repos\\10_academy\\week-2-Customer-Experience-Analytics-for-Fintech-Apps\\Data\\cleaned\\boa_reviews_cleaned.csv\n",
      "2025-06-10 15:16:11,498 - INFO - Cleaned reviews saved to d:\\active_repos\\10_academy\\week-2-Customer-Experience-Analytics-for-Fintech-Apps\\Data\\cleaned\\dashen_reviews_cleaned.csv\n"
     ]
    }
   ],
   "source": [
    "scraper.preprocess_reviews(AppName.CBE)\n",
    "scraper.preprocess_reviews(AppName.BOA)\n",
    "scraper.preprocess_reviews(AppName.DASHEN)"
   ]
  }
 ],
 "metadata": {
  "kernelspec": {
   "display_name": ".venv",
   "language": "python",
   "name": "python3"
  },
  "language_info": {
   "codemirror_mode": {
    "name": "ipython",
    "version": 3
   },
   "file_extension": ".py",
   "mimetype": "text/x-python",
   "name": "python",
   "nbconvert_exporter": "python",
   "pygments_lexer": "ipython3",
   "version": "3.13.3"
  }
 },
 "nbformat": 4,
 "nbformat_minor": 5
}
