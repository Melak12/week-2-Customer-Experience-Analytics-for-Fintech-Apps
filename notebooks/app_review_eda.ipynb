{
 "cells": [
  {
   "cell_type": "code",
   "execution_count": 1,
   "id": "4cff9894",
   "metadata": {},
   "outputs": [],
   "source": [
    "# load the autoreload extension for IPython\n",
    "# This allows you to automatically reload modules before executing code\n",
    "%load_ext autoreload\n",
    "%autoreload 2\n",
    "\n",
    "import sys\n",
    "import os\n",
    "\n",
    "# Add the parent directory to the system path\n",
    "sys.path.append(os.path.abspath(os.path.join('..')))"
   ]
  },
  {
   "cell_type": "code",
   "execution_count": 2,
   "id": "ba22e926",
   "metadata": {},
   "outputs": [],
   "source": [
    "# Import necessary modules and packages\n",
    "\n",
    "from scripts.app_review_scrapper import AppReviewScraper, AppName\n"
   ]
  },
  {
   "cell_type": "code",
   "execution_count": 4,
   "id": "d3f7d5de",
   "metadata": {},
   "outputs": [],
   "source": [
    "# Initialize the AppReviewScraper with the desired app ID\n",
    "\n",
    "scraper = AppReviewScraper()\n",
    "\n"
   ]
  },
  {
   "cell_type": "code",
   "execution_count": 5,
   "id": "4f4d4985",
   "metadata": {},
   "outputs": [
    {
     "name": "stderr",
     "output_type": "stream",
     "text": [
      "2025-06-10 13:03:56,768 - INFO - Starting to scrape reviews for app: com.combanketh.mobilebanking\n",
      "2025-06-10 13:04:03,537 - INFO - Scraped 400 reviews. Saving to d:\\active_repos\\10_academy\\week-2-Customer-Experience-Analytics-for-Fintech-Apps\\Data\\cbe_reviews.csv\n",
      "2025-06-10 13:04:03,548 - INFO - Reviews saved successfully.\n",
      "2025-06-10 13:04:03,549 - INFO - Starting to scrape reviews for app: com.boa.boaMobileBanking\n",
      "2025-06-10 13:04:10,156 - INFO - Scraped 400 reviews. Saving to d:\\active_repos\\10_academy\\week-2-Customer-Experience-Analytics-for-Fintech-Apps\\Data\\boa_reviews.csv\n",
      "2025-06-10 13:04:10,171 - INFO - Reviews saved successfully.\n",
      "2025-06-10 13:04:10,173 - INFO - Starting to scrape reviews for app: com.dashen.dashensuperapp\n",
      "2025-06-10 13:04:16,586 - INFO - Scraped 400 reviews. Saving to d:\\active_repos\\10_academy\\week-2-Customer-Experience-Analytics-for-Fintech-Apps\\Data\\dashen_reviews.csv\n",
      "2025-06-10 13:04:16,603 - INFO - Reviews saved successfully.\n"
     ]
    }
   ],
   "source": [
    "# Scrape reviews for CBE\n",
    "scraper.scrape_reviews(AppName.CBE)\n",
    "\n",
    "# Scrape review for BOA\n",
    "scraper.scrape_reviews(AppName.BOA)\n",
    "\n",
    "#scrape reviews for Dashen\n",
    "scraper.scrape_reviews(AppName.DASHEN)"
   ]
  }
 ],
 "metadata": {
  "kernelspec": {
   "display_name": ".venv",
   "language": "python",
   "name": "python3"
  },
  "language_info": {
   "codemirror_mode": {
    "name": "ipython",
    "version": 3
   },
   "file_extension": ".py",
   "mimetype": "text/x-python",
   "name": "python",
   "nbconvert_exporter": "python",
   "pygments_lexer": "ipython3",
   "version": "3.13.3"
  }
 },
 "nbformat": 4,
 "nbformat_minor": 5
}
