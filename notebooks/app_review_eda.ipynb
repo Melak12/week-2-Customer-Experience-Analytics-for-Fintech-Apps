{
 "cells": [
  {
   "cell_type": "code",
   "execution_count": 1,
   "id": "4cff9894",
   "metadata": {},
   "outputs": [],
   "source": [
    "# load the autoreload extension for IPython\n",
    "# This allows you to automatically reload modules before executing code\n",
    "%load_ext autoreload\n",
    "%autoreload 2\n",
    "\n",
    "import sys\n",
    "import os\n",
    "\n",
    "# Add the parent directory to the system path\n",
    "sys.path.append(os.path.abspath(os.path.join('..')))"
   ]
  },
  {
   "cell_type": "code",
   "execution_count": 2,
   "id": "ba22e926",
   "metadata": {},
   "outputs": [],
   "source": [
    "# Import necessary modules and packages\n",
    "\n",
    "from scripts.app_review_scrapper import AppReviewScraper, AppName\n"
   ]
  },
  {
   "cell_type": "code",
   "execution_count": 3,
   "id": "d3f7d5de",
   "metadata": {},
   "outputs": [
    {
     "name": "stderr",
     "output_type": "stream",
     "text": [
      "2025-06-10 12:58:46,361 - INFO - Starting to scrape reviews for app: com.combanketh.mobilebanking\n",
      "2025-06-10 12:58:52,953 - INFO - Scraped 400 reviews. Saving to d:\\active_repos\\10_academy\\week-2-Customer-Experience-Analytics-for-Fintech-Apps\\Data\\cbe_reviews.csv\n",
      "2025-06-10 12:58:52,966 - INFO - Reviews saved successfully.\n",
      "2025-06-10 12:58:52,968 - INFO - Starting to scrape reviews for app: com.boa.boaMobileBanking\n",
      "2025-06-10 12:58:59,160 - INFO - Scraped 400 reviews. Saving to d:\\active_repos\\10_academy\\week-2-Customer-Experience-Analytics-for-Fintech-Apps\\Data\\boa_reviews.csv\n",
      "2025-06-10 12:58:59,174 - INFO - Reviews saved successfully.\n",
      "2025-06-10 12:58:59,177 - INFO - Starting to scrape reviews for app: com.dashen.dashensuperapp\n",
      "2025-06-10 12:59:06,157 - INFO - Scraped 400 reviews. Saving to d:\\active_repos\\10_academy\\week-2-Customer-Experience-Analytics-for-Fintech-Apps\\Data\\dashen_reviews.csv\n",
      "2025-06-10 12:59:06,176 - INFO - Reviews saved successfully.\n"
     ]
    }
   ],
   "source": [
    "# Initialize the AppReviewScraper with the desired app ID\n",
    "\n",
    "scraper = AppReviewScraper()\n",
    "\n",
    "# Scrape reviews for CBE\n",
    "scraper.scrape_reviews(AppName.CBE)\n",
    "\n",
    "# Scrape review for BOA\n",
    "scraper.scrape_reviews(AppName.BOA)\n",
    "\n",
    "#scrape reviews for Dashen\n",
    "scraper.scrape_reviews(AppName.DASHEN)"
   ]
  }
 ],
 "metadata": {
  "kernelspec": {
   "display_name": ".venv",
   "language": "python",
   "name": "python3"
  },
  "language_info": {
   "codemirror_mode": {
    "name": "ipython",
    "version": 3
   },
   "file_extension": ".py",
   "mimetype": "text/x-python",
   "name": "python",
   "nbconvert_exporter": "python",
   "pygments_lexer": "ipython3",
   "version": "3.13.3"
  }
 },
 "nbformat": 4,
 "nbformat_minor": 5
}
